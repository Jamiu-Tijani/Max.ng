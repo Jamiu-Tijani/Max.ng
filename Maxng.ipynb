{
 "cells": [
  {
   "cell_type": "markdown",
   "metadata": {},
   "source": [
    "# Importing Required Modules"
   ]
  },
  {
   "cell_type": "code",
   "execution_count": 1,
   "metadata": {},
   "outputs": [],
   "source": [
    "import numpy as np\n",
    "import pandas as pd\n",
    "import pyprind, os, re, nltk, pickle,sqlite3\n",
    "from tqdm import tqdm"
   ]
  },
  {
   "cell_type": "markdown",
   "metadata": {},
   "source": [
    "# Data Preproccessing"
   ]
  },
  {
   "cell_type": "code",
   "execution_count": 2,
   "metadata": {},
   "outputs": [],
   "source": [
    "# Reading Gathered Tweets\n",
    "Gidi_traffic = pd.read_csv('Gidi_traffic.csv')\n",
    "Traffic_chief = pd.read_csv('Traffic_Chief_Ng.csv')\n",
    "followlastma = pd.read_csv('followlastma.csv')"
   ]
  },
  {
   "cell_type": "code",
   "execution_count": 4,
   "metadata": {},
   "outputs": [
    {
     "data": {
      "text/html": [
       "<div>\n",
       "<style scoped>\n",
       "    .dataframe tbody tr th:only-of-type {\n",
       "        vertical-align: middle;\n",
       "    }\n",
       "\n",
       "    .dataframe tbody tr th {\n",
       "        vertical-align: top;\n",
       "    }\n",
       "\n",
       "    .dataframe thead th {\n",
       "        text-align: right;\n",
       "    }\n",
       "</style>\n",
       "<table border=\"1\" class=\"dataframe\">\n",
       "  <thead>\n",
       "    <tr style=\"text-align: right;\">\n",
       "      <th></th>\n",
       "      <th>0</th>\n",
       "      <th>1</th>\n",
       "      <th>2</th>\n",
       "      <th>3</th>\n",
       "      <th>4</th>\n",
       "      <th>5</th>\n",
       "      <th>6</th>\n",
       "      <th>7</th>\n",
       "      <th>8</th>\n",
       "      <th>9</th>\n",
       "      <th>10</th>\n",
       "      <th>11</th>\n",
       "    </tr>\n",
       "  </thead>\n",
       "  <tbody>\n",
       "    <tr>\n",
       "      <td>0</td>\n",
       "      <td>2020-01-19 22:41:17</td>\n",
       "      <td>Gidi_Traffic</td>\n",
       "      <td>NaN</td>\n",
       "      <td>7</td>\n",
       "      <td>45</td>\n",
       "      <td>53</td>\n",
       "      <td>NaN</td>\n",
       "      <td>@FeralJack_</td>\n",
       "      <td>NaN</td>\n",
       "      <td>1219027075320991744</td>\n",
       "      <td>https://twitter.com/Gidi_Traffic/status/121902...</td>\n",
       "      <td>\" : What’s happening in Abule Egba? Who allowe...</td>\n",
       "    </tr>\n",
       "    <tr>\n",
       "      <td>1</td>\n",
       "      <td>2020-01-19 22:41:04</td>\n",
       "      <td>Gidi_Traffic</td>\n",
       "      <td>NaN</td>\n",
       "      <td>0</td>\n",
       "      <td>23</td>\n",
       "      <td>32</td>\n",
       "      <td>NaN</td>\n",
       "      <td>@spurndonek @Old</td>\n",
       "      <td>NaN</td>\n",
       "      <td>1219027017724764163</td>\n",
       "      <td>https://twitter.com/Gidi_Traffic/status/121902...</td>\n",
       "      <td>\" : Emergency Emergency There is a fire outbre...</td>\n",
       "    </tr>\n",
       "  </tbody>\n",
       "</table>\n",
       "</div>"
      ],
      "text/plain": [
       "                     0             1    2  3   4   5   6                 7  \\\n",
       "0  2020-01-19 22:41:17  Gidi_Traffic  NaN  7  45  53 NaN       @FeralJack_   \n",
       "1  2020-01-19 22:41:04  Gidi_Traffic  NaN  0  23  32 NaN  @spurndonek @Old   \n",
       "\n",
       "     8                    9  \\\n",
       "0  NaN  1219027075320991744   \n",
       "1  NaN  1219027017724764163   \n",
       "\n",
       "                                                  10  \\\n",
       "0  https://twitter.com/Gidi_Traffic/status/121902...   \n",
       "1  https://twitter.com/Gidi_Traffic/status/121902...   \n",
       "\n",
       "                                                  11  \n",
       "0  \" : What’s happening in Abule Egba? Who allowe...  \n",
       "1  \" : Emergency Emergency There is a fire outbre...  "
      ]
     },
     "execution_count": 4,
     "metadata": {},
     "output_type": "execute_result"
    }
   ],
   "source": [
    "Gidi_traffic.head(2)"
   ]
  },
  {
   "cell_type": "code",
   "execution_count": 5,
   "metadata": {},
   "outputs": [
    {
     "data": {
      "text/html": [
       "<div>\n",
       "<style scoped>\n",
       "    .dataframe tbody tr th:only-of-type {\n",
       "        vertical-align: middle;\n",
       "    }\n",
       "\n",
       "    .dataframe tbody tr th {\n",
       "        vertical-align: top;\n",
       "    }\n",
       "\n",
       "    .dataframe thead th {\n",
       "        text-align: right;\n",
       "    }\n",
       "</style>\n",
       "<table border=\"1\" class=\"dataframe\">\n",
       "  <thead>\n",
       "    <tr style=\"text-align: right;\">\n",
       "      <th></th>\n",
       "      <th>0</th>\n",
       "      <th>1</th>\n",
       "      <th>2</th>\n",
       "      <th>3</th>\n",
       "      <th>4</th>\n",
       "      <th>5</th>\n",
       "      <th>6</th>\n",
       "      <th>7</th>\n",
       "      <th>8</th>\n",
       "      <th>9</th>\n",
       "      <th>10</th>\n",
       "      <th>11</th>\n",
       "    </tr>\n",
       "  </thead>\n",
       "  <tbody>\n",
       "    <tr>\n",
       "      <td>0</td>\n",
       "      <td>2020-01-19 23:45:10</td>\n",
       "      <td>TrafficChiefNG</td>\n",
       "      <td>NaN</td>\n",
       "      <td>1</td>\n",
       "      <td>2</td>\n",
       "      <td>6</td>\n",
       "      <td>NaN</td>\n",
       "      <td>@eniola_opeyemi</td>\n",
       "      <td>#TrafficChief</td>\n",
       "      <td>1219043149282041856</td>\n",
       "      <td>https://twitter.com/TrafficChiefNG/status/1219...</td>\n",
       "      <td>[12:32AM] : PHOTOS: Rehabilitation work on Dop...</td>\n",
       "    </tr>\n",
       "    <tr>\n",
       "      <td>1</td>\n",
       "      <td>2020-01-19 23:45:08</td>\n",
       "      <td>TrafficChiefNG</td>\n",
       "      <td>NaN</td>\n",
       "      <td>0</td>\n",
       "      <td>0</td>\n",
       "      <td>1</td>\n",
       "      <td>NaN</td>\n",
       "      <td>@bait4love @kunlegzyNew2013</td>\n",
       "      <td>#TrafficChief</td>\n",
       "      <td>1219043143024181248</td>\n",
       "      <td>https://twitter.com/TrafficChiefNG/status/1219...</td>\n",
       "      <td>[12:39AM] : 2 storey renovated building at idi...</td>\n",
       "    </tr>\n",
       "  </tbody>\n",
       "</table>\n",
       "</div>"
      ],
      "text/plain": [
       "                     0               1    2  3  4  5   6  \\\n",
       "0  2020-01-19 23:45:10  TrafficChiefNG  NaN  1  2  6 NaN   \n",
       "1  2020-01-19 23:45:08  TrafficChiefNG  NaN  0  0  1 NaN   \n",
       "\n",
       "                             7              8                    9  \\\n",
       "0              @eniola_opeyemi  #TrafficChief  1219043149282041856   \n",
       "1  @bait4love @kunlegzyNew2013  #TrafficChief  1219043143024181248   \n",
       "\n",
       "                                                  10  \\\n",
       "0  https://twitter.com/TrafficChiefNG/status/1219...   \n",
       "1  https://twitter.com/TrafficChiefNG/status/1219...   \n",
       "\n",
       "                                                  11  \n",
       "0  [12:32AM] : PHOTOS: Rehabilitation work on Dop...  \n",
       "1  [12:39AM] : 2 storey renovated building at idi...  "
      ]
     },
     "execution_count": 5,
     "metadata": {},
     "output_type": "execute_result"
    }
   ],
   "source": [
    "Traffic_chief.head(2)"
   ]
  },
  {
   "cell_type": "code",
   "execution_count": 6,
   "metadata": {},
   "outputs": [
    {
     "data": {
      "text/html": [
       "<div>\n",
       "<style scoped>\n",
       "    .dataframe tbody tr th:only-of-type {\n",
       "        vertical-align: middle;\n",
       "    }\n",
       "\n",
       "    .dataframe tbody tr th {\n",
       "        vertical-align: top;\n",
       "    }\n",
       "\n",
       "    .dataframe thead th {\n",
       "        text-align: right;\n",
       "    }\n",
       "</style>\n",
       "<table border=\"1\" class=\"dataframe\">\n",
       "  <thead>\n",
       "    <tr style=\"text-align: right;\">\n",
       "      <th></th>\n",
       "      <th>0</th>\n",
       "      <th>1</th>\n",
       "      <th>2</th>\n",
       "      <th>3</th>\n",
       "      <th>4</th>\n",
       "      <th>5</th>\n",
       "      <th>6</th>\n",
       "      <th>7</th>\n",
       "      <th>8</th>\n",
       "      <th>9</th>\n",
       "      <th>10</th>\n",
       "      <th>11</th>\n",
       "    </tr>\n",
       "  </thead>\n",
       "  <tbody>\n",
       "    <tr>\n",
       "      <td>0</td>\n",
       "      <td>2020-01-18 07:23:09</td>\n",
       "      <td>followlastma</td>\n",
       "      <td>NaN</td>\n",
       "      <td>1</td>\n",
       "      <td>6</td>\n",
       "      <td>5</td>\n",
       "      <td>NaN</td>\n",
       "      <td>@TrafficChiefNG @Gidi_Traffic @trafficbutterpic</td>\n",
       "      <td>#OjotaInterchange #lastmareports</td>\n",
       "      <td>1218433631305203712</td>\n",
       "      <td>https://twitter.com/followlastma/status/121843...</td>\n",
       "      <td>[7.55am] A truck loaded with plywood tilted an...</td>\n",
       "    </tr>\n",
       "    <tr>\n",
       "      <td>1</td>\n",
       "      <td>2020-01-17 16:44:52</td>\n",
       "      <td>followlastma</td>\n",
       "      <td>NaN</td>\n",
       "      <td>0</td>\n",
       "      <td>1</td>\n",
       "      <td>0</td>\n",
       "      <td>NaN</td>\n",
       "      <td>NaN</td>\n",
       "      <td>NaN</td>\n",
       "      <td>1218212604319059969</td>\n",
       "      <td>https://twitter.com/followlastma/status/121821...</td>\n",
       "      <td>As motorists leave the Market and ascend the E...</td>\n",
       "    </tr>\n",
       "  </tbody>\n",
       "</table>\n",
       "</div>"
      ],
      "text/plain": [
       "                     0             1    2  3  4  5   6  \\\n",
       "0  2020-01-18 07:23:09  followlastma  NaN  1  6  5 NaN   \n",
       "1  2020-01-17 16:44:52  followlastma  NaN  0  1  0 NaN   \n",
       "\n",
       "                                                 7  \\\n",
       "0  @TrafficChiefNG @Gidi_Traffic @trafficbutterpic   \n",
       "1                                              NaN   \n",
       "\n",
       "                                  8                    9  \\\n",
       "0  #OjotaInterchange #lastmareports  1218433631305203712   \n",
       "1                               NaN  1218212604319059969   \n",
       "\n",
       "                                                  10  \\\n",
       "0  https://twitter.com/followlastma/status/121843...   \n",
       "1  https://twitter.com/followlastma/status/121821...   \n",
       "\n",
       "                                                  11  \n",
       "0  [7.55am] A truck loaded with plywood tilted an...  \n",
       "1  As motorists leave the Market and ascend the E...  "
      ]
     },
     "execution_count": 6,
     "metadata": {},
     "output_type": "execute_result"
    }
   ],
   "source": [
    "followlastma.head(2)"
   ]
  },
  {
   "cell_type": "code",
   "execution_count": 7,
   "metadata": {},
   "outputs": [],
   "source": [
    "df = pd.concat([Traffic_chief,Gidi_traffic,followlastma]) \n",
    "#concatenating dataframes together to ease data visualization\n"
   ]
  },
  {
   "cell_type": "code",
   "execution_count": 8,
   "metadata": {},
   "outputs": [
    {
     "data": {
      "text/html": [
       "<div>\n",
       "<style scoped>\n",
       "    .dataframe tbody tr th:only-of-type {\n",
       "        vertical-align: middle;\n",
       "    }\n",
       "\n",
       "    .dataframe tbody tr th {\n",
       "        vertical-align: top;\n",
       "    }\n",
       "\n",
       "    .dataframe thead th {\n",
       "        text-align: right;\n",
       "    }\n",
       "</style>\n",
       "<table border=\"1\" class=\"dataframe\">\n",
       "  <thead>\n",
       "    <tr style=\"text-align: right;\">\n",
       "      <th></th>\n",
       "      <th>0</th>\n",
       "      <th>1</th>\n",
       "      <th>2</th>\n",
       "      <th>3</th>\n",
       "      <th>4</th>\n",
       "      <th>5</th>\n",
       "      <th>6</th>\n",
       "      <th>7</th>\n",
       "      <th>8</th>\n",
       "      <th>9</th>\n",
       "      <th>10</th>\n",
       "      <th>11</th>\n",
       "    </tr>\n",
       "  </thead>\n",
       "  <tbody>\n",
       "    <tr>\n",
       "      <td>0</td>\n",
       "      <td>2020-01-19 23:45:10</td>\n",
       "      <td>TrafficChiefNG</td>\n",
       "      <td>NaN</td>\n",
       "      <td>1</td>\n",
       "      <td>2</td>\n",
       "      <td>6</td>\n",
       "      <td>NaN</td>\n",
       "      <td>@eniola_opeyemi</td>\n",
       "      <td>#TrafficChief</td>\n",
       "      <td>1219043149282041856</td>\n",
       "      <td>https://twitter.com/TrafficChiefNG/status/1219...</td>\n",
       "      <td>[12:32AM] : PHOTOS: Rehabilitation work on Dop...</td>\n",
       "    </tr>\n",
       "    <tr>\n",
       "      <td>1</td>\n",
       "      <td>2020-01-19 23:45:08</td>\n",
       "      <td>TrafficChiefNG</td>\n",
       "      <td>NaN</td>\n",
       "      <td>0</td>\n",
       "      <td>0</td>\n",
       "      <td>1</td>\n",
       "      <td>NaN</td>\n",
       "      <td>@bait4love @kunlegzyNew2013</td>\n",
       "      <td>#TrafficChief</td>\n",
       "      <td>1219043143024181248</td>\n",
       "      <td>https://twitter.com/TrafficChiefNG/status/1219...</td>\n",
       "      <td>[12:39AM] : 2 storey renovated building at idi...</td>\n",
       "    </tr>\n",
       "    <tr>\n",
       "      <td>2</td>\n",
       "      <td>2020-01-19 23:30:11</td>\n",
       "      <td>TrafficChiefNG</td>\n",
       "      <td>NaN</td>\n",
       "      <td>1</td>\n",
       "      <td>3</td>\n",
       "      <td>3</td>\n",
       "      <td>NaN</td>\n",
       "      <td>@kikigist</td>\n",
       "      <td>#GIDITRAFFIC #TrafficChief</td>\n",
       "      <td>1219039378514665473</td>\n",
       "      <td>https://twitter.com/TrafficChiefNG/status/1219...</td>\n",
       "      <td>[12:15AM] : ?? ? ??? pipeline is burning here ...</td>\n",
       "    </tr>\n",
       "    <tr>\n",
       "      <td>3</td>\n",
       "      <td>2020-01-19 23:30:09</td>\n",
       "      <td>TrafficChiefNG</td>\n",
       "      <td>NaN</td>\n",
       "      <td>1</td>\n",
       "      <td>5</td>\n",
       "      <td>6</td>\n",
       "      <td>NaN</td>\n",
       "      <td>@BlaqBoi_Phillz @AmeboOnlineTv1 @lagostraffic9...</td>\n",
       "      <td>#PipelineFire #TrafficChief</td>\n",
       "      <td>1219039370008649728</td>\n",
       "      <td>https://twitter.com/TrafficChiefNG/status/1219...</td>\n",
       "      <td>[12:15AM] : [11:21PM] : See victims of Abule e...</td>\n",
       "    </tr>\n",
       "    <tr>\n",
       "      <td>4</td>\n",
       "      <td>2020-01-19 23:00:14</td>\n",
       "      <td>TrafficChiefNG</td>\n",
       "      <td>NaN</td>\n",
       "      <td>0</td>\n",
       "      <td>0</td>\n",
       "      <td>1</td>\n",
       "      <td>NaN</td>\n",
       "      <td>@zantoto @TemiTells @TheLyrikallz @daemperor007</td>\n",
       "      <td>#TrafficChief</td>\n",
       "      <td>1219031843053260801</td>\n",
       "      <td>https://twitter.com/TrafficChiefNG/status/1219...</td>\n",
       "      <td>[11:48PM] : Ma, I have family living at Abule ...</td>\n",
       "    </tr>\n",
       "    <tr>\n",
       "      <td>...</td>\n",
       "      <td>...</td>\n",
       "      <td>...</td>\n",
       "      <td>...</td>\n",
       "      <td>...</td>\n",
       "      <td>...</td>\n",
       "      <td>...</td>\n",
       "      <td>...</td>\n",
       "      <td>...</td>\n",
       "      <td>...</td>\n",
       "      <td>...</td>\n",
       "      <td>...</td>\n",
       "      <td>...</td>\n",
       "    </tr>\n",
       "    <tr>\n",
       "      <td>995</td>\n",
       "      <td>2019-11-19 09:04:00</td>\n",
       "      <td>followlastma</td>\n",
       "      <td>NaN</td>\n",
       "      <td>0</td>\n",
       "      <td>3</td>\n",
       "      <td>1</td>\n",
       "      <td>NaN</td>\n",
       "      <td>@TrafficChiefNG @Gidi_Traffic @trafficbutter @...</td>\n",
       "      <td>#GbagadaExp #lastmareports</td>\n",
       "      <td>1196715739329257478</td>\n",
       "      <td>https://twitter.com/followlastma/status/119671...</td>\n",
       "      <td>[9.50am] A brokendown truck at Newcastle inwar...</td>\n",
       "    </tr>\n",
       "    <tr>\n",
       "      <td>996</td>\n",
       "      <td>2019-11-19 09:00:59</td>\n",
       "      <td>followlastma</td>\n",
       "      <td>NaN</td>\n",
       "      <td>0</td>\n",
       "      <td>4</td>\n",
       "      <td>1</td>\n",
       "      <td>NaN</td>\n",
       "      <td>@lasemasocial @TrafficChiefNG @Gidi_Traffic @t...</td>\n",
       "      <td>#LagosBadagryExp #lastmareports</td>\n",
       "      <td>1196714980311273472</td>\n",
       "      <td>https://twitter.com/followlastma/status/119671...</td>\n",
       "      <td>[9.49am] Fallen truck loaded with sand at Volk...</td>\n",
       "    </tr>\n",
       "    <tr>\n",
       "      <td>997</td>\n",
       "      <td>2019-11-19 08:35:05</td>\n",
       "      <td>followlastma</td>\n",
       "      <td>NaN</td>\n",
       "      <td>0</td>\n",
       "      <td>0</td>\n",
       "      <td>0</td>\n",
       "      <td>NaN</td>\n",
       "      <td>@TrafficChiefNG @Gidi_Traffic @trafficbutter @...</td>\n",
       "      <td>NaN</td>\n",
       "      <td>1196708459330322432</td>\n",
       "      <td>https://twitter.com/followlastma/status/119670...</td>\n",
       "      <td>Slow approaching JesuOyingbo intersection to t...</td>\n",
       "    </tr>\n",
       "    <tr>\n",
       "      <td>998</td>\n",
       "      <td>2019-11-19 08:35:04</td>\n",
       "      <td>followlastma</td>\n",
       "      <td>NaN</td>\n",
       "      <td>1</td>\n",
       "      <td>0</td>\n",
       "      <td>0</td>\n",
       "      <td>NaN</td>\n",
       "      <td>@TrafficChiefNG @Gidi_Traffic @trafficbutter @...</td>\n",
       "      <td>#IkoroduRd #AMTrafficReviews</td>\n",
       "      <td>1196708455710629889</td>\n",
       "      <td>https://twitter.com/followlastma/status/119670...</td>\n",
       "      <td>[9.26am] Ikorodu after the BRT Terminal all th...</td>\n",
       "    </tr>\n",
       "    <tr>\n",
       "      <td>999</td>\n",
       "      <td>2019-11-19 08:33:13</td>\n",
       "      <td>followlastma</td>\n",
       "      <td>NaN</td>\n",
       "      <td>0</td>\n",
       "      <td>0</td>\n",
       "      <td>0</td>\n",
       "      <td>NaN</td>\n",
       "      <td>@TrafficChiefNG @Gidi_Traffic @trafficbutter @...</td>\n",
       "      <td>NaN</td>\n",
       "      <td>1196707991447363585</td>\n",
       "      <td>https://twitter.com/followlastma/status/119670...</td>\n",
       "      <td>Also there are various construction works ongo...</td>\n",
       "    </tr>\n",
       "  </tbody>\n",
       "</table>\n",
       "<p>3000 rows × 12 columns</p>\n",
       "</div>"
      ],
      "text/plain": [
       "                       0               1    2  3  4  5   6  \\\n",
       "0    2020-01-19 23:45:10  TrafficChiefNG  NaN  1  2  6 NaN   \n",
       "1    2020-01-19 23:45:08  TrafficChiefNG  NaN  0  0  1 NaN   \n",
       "2    2020-01-19 23:30:11  TrafficChiefNG  NaN  1  3  3 NaN   \n",
       "3    2020-01-19 23:30:09  TrafficChiefNG  NaN  1  5  6 NaN   \n",
       "4    2020-01-19 23:00:14  TrafficChiefNG  NaN  0  0  1 NaN   \n",
       "..                   ...             ...  ... .. .. ..  ..   \n",
       "995  2019-11-19 09:04:00    followlastma  NaN  0  3  1 NaN   \n",
       "996  2019-11-19 09:00:59    followlastma  NaN  0  4  1 NaN   \n",
       "997  2019-11-19 08:35:05    followlastma  NaN  0  0  0 NaN   \n",
       "998  2019-11-19 08:35:04    followlastma  NaN  1  0  0 NaN   \n",
       "999  2019-11-19 08:33:13    followlastma  NaN  0  0  0 NaN   \n",
       "\n",
       "                                                     7  \\\n",
       "0                                      @eniola_opeyemi   \n",
       "1                          @bait4love @kunlegzyNew2013   \n",
       "2                                            @kikigist   \n",
       "3    @BlaqBoi_Phillz @AmeboOnlineTv1 @lagostraffic9...   \n",
       "4      @zantoto @TemiTells @TheLyrikallz @daemperor007   \n",
       "..                                                 ...   \n",
       "995  @TrafficChiefNG @Gidi_Traffic @trafficbutter @...   \n",
       "996  @lasemasocial @TrafficChiefNG @Gidi_Traffic @t...   \n",
       "997  @TrafficChiefNG @Gidi_Traffic @trafficbutter @...   \n",
       "998  @TrafficChiefNG @Gidi_Traffic @trafficbutter @...   \n",
       "999  @TrafficChiefNG @Gidi_Traffic @trafficbutter @...   \n",
       "\n",
       "                                   8                    9  \\\n",
       "0                      #TrafficChief  1219043149282041856   \n",
       "1                      #TrafficChief  1219043143024181248   \n",
       "2         #GIDITRAFFIC #TrafficChief  1219039378514665473   \n",
       "3        #PipelineFire #TrafficChief  1219039370008649728   \n",
       "4                      #TrafficChief  1219031843053260801   \n",
       "..                               ...                  ...   \n",
       "995       #GbagadaExp #lastmareports  1196715739329257478   \n",
       "996  #LagosBadagryExp #lastmareports  1196714980311273472   \n",
       "997                              NaN  1196708459330322432   \n",
       "998     #IkoroduRd #AMTrafficReviews  1196708455710629889   \n",
       "999                              NaN  1196707991447363585   \n",
       "\n",
       "                                                    10  \\\n",
       "0    https://twitter.com/TrafficChiefNG/status/1219...   \n",
       "1    https://twitter.com/TrafficChiefNG/status/1219...   \n",
       "2    https://twitter.com/TrafficChiefNG/status/1219...   \n",
       "3    https://twitter.com/TrafficChiefNG/status/1219...   \n",
       "4    https://twitter.com/TrafficChiefNG/status/1219...   \n",
       "..                                                 ...   \n",
       "995  https://twitter.com/followlastma/status/119671...   \n",
       "996  https://twitter.com/followlastma/status/119671...   \n",
       "997  https://twitter.com/followlastma/status/119670...   \n",
       "998  https://twitter.com/followlastma/status/119670...   \n",
       "999  https://twitter.com/followlastma/status/119670...   \n",
       "\n",
       "                                                    11  \n",
       "0    [12:32AM] : PHOTOS: Rehabilitation work on Dop...  \n",
       "1    [12:39AM] : 2 storey renovated building at idi...  \n",
       "2    [12:15AM] : ?? ? ??? pipeline is burning here ...  \n",
       "3    [12:15AM] : [11:21PM] : See victims of Abule e...  \n",
       "4    [11:48PM] : Ma, I have family living at Abule ...  \n",
       "..                                                 ...  \n",
       "995  [9.50am] A brokendown truck at Newcastle inwar...  \n",
       "996  [9.49am] Fallen truck loaded with sand at Volk...  \n",
       "997  Slow approaching JesuOyingbo intersection to t...  \n",
       "998  [9.26am] Ikorodu after the BRT Terminal all th...  \n",
       "999  Also there are various construction works ongo...  \n",
       "\n",
       "[3000 rows x 12 columns]"
      ]
     },
     "execution_count": 8,
     "metadata": {},
     "output_type": "execute_result"
    }
   ],
   "source": [
    "df"
   ]
  },
  {
   "cell_type": "code",
   "execution_count": 62,
   "metadata": {},
   "outputs": [],
   "source": [
    "# The tweets have been manually classified\n",
    "#read in manually classified tweeets\n",
    "df2 = pd.read_csv('Classified Tweets.csv')"
   ]
  },
  {
   "cell_type": "code",
   "execution_count": 63,
   "metadata": {},
   "outputs": [
    {
     "data": {
      "text/html": [
       "<div>\n",
       "<style scoped>\n",
       "    .dataframe tbody tr th:only-of-type {\n",
       "        vertical-align: middle;\n",
       "    }\n",
       "\n",
       "    .dataframe tbody tr th {\n",
       "        vertical-align: top;\n",
       "    }\n",
       "\n",
       "    .dataframe thead th {\n",
       "        text-align: right;\n",
       "    }\n",
       "</style>\n",
       "<table border=\"1\" class=\"dataframe\">\n",
       "  <thead>\n",
       "    <tr style=\"text-align: right;\">\n",
       "      <th></th>\n",
       "      <th>Tweets</th>\n",
       "      <th>Tweet Classification</th>\n",
       "    </tr>\n",
       "  </thead>\n",
       "  <tbody>\n",
       "    <tr>\n",
       "      <td>0</td>\n",
       "      <td>12 32am photos rehabilitation work on dopemu ...</td>\n",
       "      <td>1</td>\n",
       "    </tr>\n",
       "    <tr>\n",
       "      <td>1</td>\n",
       "      <td>12 39am 2 storey renovated building at idi or...</td>\n",
       "      <td>0</td>\n",
       "    </tr>\n",
       "    <tr>\n",
       "      <td>2</td>\n",
       "      <td>12 15am pipeline is burning here at agbado ok...</td>\n",
       "      <td>1</td>\n",
       "    </tr>\n",
       "    <tr>\n",
       "      <td>3</td>\n",
       "      <td>12 15am 11 21pm see victims of abule egba a l...</td>\n",
       "      <td>1</td>\n",
       "    </tr>\n",
       "    <tr>\n",
       "      <td>4</td>\n",
       "      <td>11 48pm ma i have family living at abule egba...</td>\n",
       "      <td>0</td>\n",
       "    </tr>\n",
       "    <tr>\n",
       "      <td>...</td>\n",
       "      <td>...</td>\n",
       "      <td>...</td>\n",
       "    </tr>\n",
       "    <tr>\n",
       "      <td>2995</td>\n",
       "      <td>9 50am a brokendown truck at newcastle inward...</td>\n",
       "      <td>0</td>\n",
       "    </tr>\n",
       "    <tr>\n",
       "      <td>2996</td>\n",
       "      <td>9 49am fallen truck loaded with sand at volks...</td>\n",
       "      <td>1</td>\n",
       "    </tr>\n",
       "    <tr>\n",
       "      <td>2997</td>\n",
       "      <td>slow approaching jesuoyingbo intersection to t...</td>\n",
       "      <td>1</td>\n",
       "    </tr>\n",
       "    <tr>\n",
       "      <td>2998</td>\n",
       "      <td>9 26am ikorodu after the brt terminal all the...</td>\n",
       "      <td>1</td>\n",
       "    </tr>\n",
       "    <tr>\n",
       "      <td>2999</td>\n",
       "      <td>also there are various construction works ongo...</td>\n",
       "      <td>0</td>\n",
       "    </tr>\n",
       "  </tbody>\n",
       "</table>\n",
       "<p>3000 rows × 2 columns</p>\n",
       "</div>"
      ],
      "text/plain": [
       "                                                 Tweets  Tweet Classification\n",
       "0      12 32am photos rehabilitation work on dopemu ...                     1\n",
       "1      12 39am 2 storey renovated building at idi or...                     0\n",
       "2      12 15am pipeline is burning here at agbado ok...                     1\n",
       "3      12 15am 11 21pm see victims of abule egba a l...                     1\n",
       "4      11 48pm ma i have family living at abule egba...                     0\n",
       "...                                                 ...                   ...\n",
       "2995   9 50am a brokendown truck at newcastle inward...                     0\n",
       "2996   9 49am fallen truck loaded with sand at volks...                     1\n",
       "2997  slow approaching jesuoyingbo intersection to t...                     1\n",
       "2998   9 26am ikorodu after the brt terminal all the...                     1\n",
       "2999  also there are various construction works ongo...                     0\n",
       "\n",
       "[3000 rows x 2 columns]"
      ]
     },
     "execution_count": 63,
     "metadata": {},
     "output_type": "execute_result"
    }
   ],
   "source": [
    "df2"
   ]
  },
  {
   "cell_type": "code",
   "execution_count": 64,
   "metadata": {},
   "outputs": [],
   "source": [
    "def tokenizer(text):\n",
    "    return text.split()"
   ]
  },
  {
   "cell_type": "code",
   "execution_count": 65,
   "metadata": {},
   "outputs": [
    {
     "data": {
      "text/plain": [
       "['runner', 'like', 'run', 'and', 'thu', 'they', 'run']"
      ]
     },
     "execution_count": 65,
     "metadata": {},
     "output_type": "execute_result"
    }
   ],
   "source": [
    "#word stemming; transfomring word to its root form\n",
    "#Note: In order to install the NLTK, you can simply execute pip install nltk\n",
    "from nltk.stem.porter import PorterStemmer\n",
    "porter = PorterStemmer()\n",
    "def tokenizer_porter(text):\n",
    "    return [porter.stem(word) for word in text.split()]\n",
    "\n",
    "#for example\n",
    "tokenizer_porter('runners like running and thus they run')"
   ]
  },
  {
   "cell_type": "code",
   "execution_count": 66,
   "metadata": {},
   "outputs": [],
   "source": [
    "def tokenizer(text):\n",
    "    text = re.sub('<[^>]*>', '', text)\n",
    "    emoticons = re.findall('(?::|;|=)(?:-)?(?:\\)|\\(|D|P)',text.lower())\n",
    "    text = re.sub('[\\W]+', ' ', text.lower())+ ' '.join(emoticons).replace('-', '')\n",
    "    tokenized = [w for w in text.split() if w not in stop]\n",
    "    return tokenized"
   ]
  },
  {
   "cell_type": "code",
   "execution_count": 67,
   "metadata": {},
   "outputs": [],
   "source": [
    "#using hashing vectorizer for text processing\n",
    "#Note CountVectorizer is not used because it requires holding all vocabulary in memory\n",
    "#TfidfVectorizer is not used because it requires keeping all feature vectors of the\n",
    "#training data in memory to calculate inverse document frequencies.\n",
    "\n",
    "#We will use Hashingvectorizer, this is data independent\n",
    "#uisng SGD classifier algorithm\n",
    "from sklearn.feature_extraction.text import HashingVectorizer\n",
    "vect = HashingVectorizer(decode_error='ignore', n_features=2**21, preprocessor=None,tokenizer=tokenizer)\n",
    "from nltk.corpus import stopwords\n",
    "stop = stopwords.words('english')"
   ]
  },
  {
   "cell_type": "code",
   "execution_count": 73,
   "metadata": {},
   "outputs": [],
   "source": [
    "X = vect.transform(df['Tweets'])\n",
    "y = df2['Tweet Classification']"
   ]
  },
  {
   "cell_type": "code",
   "execution_count": 74,
   "metadata": {},
   "outputs": [],
   "source": [
    "from sklearn.model_selection import train_test_split"
   ]
  },
  {
   "cell_type": "code",
   "execution_count": 75,
   "metadata": {},
   "outputs": [],
   "source": [
    "X_train, X_test, y_train, y_test = train_test_split(X, y, test_size=0.33, random_state=42)"
   ]
  },
  {
   "cell_type": "code",
   "execution_count": 76,
   "metadata": {},
   "outputs": [],
   "source": [
    "from sklearn.linear_model import SGDClassifier "
   ]
  },
  {
   "cell_type": "code",
   "execution_count": 77,
   "metadata": {},
   "outputs": [],
   "source": [
    "clf = SGDClassifier(loss = 'log', random_state=1)"
   ]
  },
  {
   "cell_type": "code",
   "execution_count": 78,
   "metadata": {},
   "outputs": [
    {
     "data": {
      "text/plain": [
       "SGDClassifier(alpha=0.0001, average=False, class_weight=None,\n",
       "              early_stopping=False, epsilon=0.1, eta0=0.0, fit_intercept=True,\n",
       "              l1_ratio=0.15, learning_rate='optimal', loss='log', max_iter=1000,\n",
       "              n_iter_no_change=5, n_jobs=None, penalty='l2', power_t=0.5,\n",
       "              random_state=1, shuffle=True, tol=0.001, validation_fraction=0.1,\n",
       "              verbose=0, warm_start=False)"
      ]
     },
     "execution_count": 78,
     "metadata": {},
     "output_type": "execute_result"
    }
   ],
   "source": [
    "clf.fit(X_train,y_train)"
   ]
  },
  {
   "cell_type": "code",
   "execution_count": 80,
   "metadata": {},
   "outputs": [],
   "source": [
    "pred = clf.predict(X_test)"
   ]
  },
  {
   "cell_type": "code",
   "execution_count": 81,
   "metadata": {},
   "outputs": [],
   "source": [
    "from sklearn.metrics import classification_report"
   ]
  },
  {
   "cell_type": "code",
   "execution_count": 82,
   "metadata": {},
   "outputs": [
    {
     "name": "stdout",
     "output_type": "stream",
     "text": [
      "              precision    recall  f1-score   support\n",
      "\n",
      "           0       0.80      0.85      0.82       445\n",
      "           1       0.87      0.83      0.85       545\n",
      "\n",
      "    accuracy                           0.84       990\n",
      "   macro avg       0.84      0.84      0.84       990\n",
      "weighted avg       0.84      0.84      0.84       990\n",
      "\n"
     ]
    }
   ],
   "source": [
    "print(classification_report(y_test,pred))"
   ]
  },
  {
   "cell_type": "code",
   "execution_count": 83,
   "metadata": {},
   "outputs": [
    {
     "name": "stdout",
     "output_type": "stream",
     "text": [
      "Accuracy: 0.837\n"
     ]
    }
   ],
   "source": [
    "print('Accuracy: %.3f' % clf.score(X_test, y_test))\n"
   ]
  },
  {
   "cell_type": "code",
   "execution_count": 94,
   "metadata": {},
   "outputs": [
    {
     "name": "stdout",
     "output_type": "stream",
     "text": [
      "Prediction: Bad\n",
      "Probability: 86.82%\n"
     ]
    }
   ],
   "source": [
    "label = {0:'Bad', 1:'Good'}\n",
    "example = ['to get more followers on twitter dm me for low price']\n",
    "X = vect.transform(example)\n",
    "print('Prediction: %s\\nProbability: %.2f%%' %(label[clf.predict(X)[0]],np.max(clf.predict_proba(X))*100))"
   ]
  },
  {
   "cell_type": "code",
   "execution_count": 95,
   "metadata": {},
   "outputs": [
    {
     "name": "stdout",
     "output_type": "stream",
     "text": [
      "Prediction: Good\n",
      "Probability: 78.91%\n"
     ]
    }
   ],
   "source": [
    "example2 = ['Busy Traffic currently at magodo ']\n",
    "X = vect.transform(example2)\n",
    "print('Prediction: %s\\nProbability: %.2f%%' %(label[clf.predict(X)[0]],np.max(clf.predict_proba(X))*100))"
   ]
  },
  {
   "cell_type": "code",
   "execution_count": 97,
   "metadata": {},
   "outputs": [],
   "source": [
    "pickle.dump(clf, open('Classifier.sav', 'wb'))"
   ]
  },
  {
   "cell_type": "code",
   "execution_count": null,
   "metadata": {},
   "outputs": [],
   "source": []
  }
 ],
 "metadata": {
  "kernelspec": {
   "display_name": "Python 3",
   "language": "python",
   "name": "python3"
  },
  "language_info": {
   "codemirror_mode": {
    "name": "ipython",
    "version": 3
   },
   "file_extension": ".py",
   "mimetype": "text/x-python",
   "name": "python",
   "nbconvert_exporter": "python",
   "pygments_lexer": "ipython3",
   "version": "3.7.4"
  }
 },
 "nbformat": 4,
 "nbformat_minor": 2
}
